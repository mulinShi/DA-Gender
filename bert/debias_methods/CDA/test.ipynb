{
 "cells": [
  {
   "cell_type": "code",
   "execution_count": 2,
   "metadata": {},
   "outputs": [],
   "source": [
    "from substitutor import Substitutor\n",
    "from utils import load_json_pairs"
   ]
  },
  {
   "cell_type": "code",
   "execution_count": 4,
   "metadata": {},
   "outputs": [
    {
     "name": "stderr",
     "output_type": "stream",
     "text": [
      "2021-09-06 19:10:46,787 : INFO : Loading spaCy model...\n",
      "2021-09-06 19:10:50,653 : INFO : Done.\n"
     ]
    }
   ],
   "source": [
    "import spacy\n",
    "spacy.load('en_core_web_lg')\n",
    "base_pairs = load_json_pairs('gender_name_pairs/cda_default_pairs.json')\n",
    "name_pairs = load_json_pairs('gender_name_pairs/names_pairs_1000_scaled.json')\n",
    "\n",
    "# Initialise a substitutor with a list of pairs of gendered words (and optionally names)\n",
    "substitutor = Substitutor(base_pairs, name_pairs=name_pairs)"
   ]
  },
  {
   "cell_type": "code",
   "execution_count": 7,
   "metadata": {},
   "outputs": [
    {
     "data": {
      "text/plain": [
       "'Personal Life: Stuart lives in Cheshire with his ever supportive wife Margaret, their surviving daughter Joanne.'"
      ]
     },
     "execution_count": 7,
     "metadata": {},
     "output_type": "execute_result"
    }
   ],
   "source": [
    "text = \"Personal Life: Stuart lives in Cheshire with her ever supportive husband Joseph, their surviving son Jackson.\"\n",
    "\n",
    "flipped = substitutor.invert_document(text)\n",
    "flipped[0]"
   ]
  },
  {
   "cell_type": "code",
   "execution_count": null,
   "metadata": {},
   "outputs": [],
   "source": []
  }
 ],
 "metadata": {
  "kernelspec": {
   "display_name": "Python 3",
   "language": "python",
   "name": "python3"
  },
  "language_info": {
   "codemirror_mode": {
    "name": "ipython",
    "version": 3
   },
   "file_extension": ".py",
   "mimetype": "text/x-python",
   "name": "python",
   "nbconvert_exporter": "python",
   "pygments_lexer": "ipython3",
   "version": "3.8.5"
  }
 },
 "nbformat": 4,
 "nbformat_minor": 4
}
