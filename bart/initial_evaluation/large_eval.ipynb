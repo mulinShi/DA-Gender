{
 "cells": [
  {
   "cell_type": "markdown",
   "metadata": {},
   "source": [
    "Bart-large baseline"
   ]
  },
  {
   "cell_type": "code",
   "execution_count": 1,
   "metadata": {},
   "outputs": [
    {
     "name": "stdout",
     "output_type": "stream",
     "text": [
      "load tmps from ../data/simple_patterns\n",
      "--- 879 sentens to be processes ---\n",
      "We will use the GPU: GeForce GTX 1650\n",
      "max_len evaluation: 128\n",
      "--- get embeddings from TM and TAM---\n"
     ]
    },
    {
     "name": "stderr",
     "output_type": "stream",
     "text": [
      "  0%|                                                                                          | 0/543 [00:00<?, ?it/s]evaluation_for_trade_off\\bias_utils\\utils_for_diverse_tmps.py:181: UserWarning: This overload of nonzero is deprecated:\n",
      "\tnonzero()\n",
      "Consider using one of the following signatures instead:\n",
      "\tnonzero(*, bool as_tuple) (Triggered internally at  ..\\torch\\csrc\\utils\\python_arg_parser.cpp:882.)\n",
      "  mask_index = (sents[sent_id] == tokenizer.mask_token_id).nonzero().flatten().tolist()[masked_id]\n",
      "100%|████████████████████████████████████████████████████████████████████████████████| 543/543 [00:40<00:00, 13.55it/s]\n",
      "  1%|▍                                                                                 | 2/336 [00:00<00:21, 15.54it/s]"
     ]
    },
    {
     "name": "stdout",
     "output_type": "stream",
     "text": [
      "--- get embeddings from AM---\n"
     ]
    },
    {
     "name": "stderr",
     "output_type": "stream",
     "text": [
      "100%|████████████████████████████████████████████████████████████████████████████████| 336/336 [00:21<00:00, 15.54it/s]\n"
     ]
    },
    {
     "name": "stdout",
     "output_type": "stream",
     "text": [
      "(1.3774923766961604, 0.00217)\n",
      "(1.6907803901410634, 0.00018)\n"
     ]
    }
   ],
   "source": [
    "import sys \n",
    "sys.path.append(\"evaluation_for_trade_off\")\n",
    "from evaluation_for_trade_off.evaluate_by_divers_tmps_bart import convert_tmps_to_sents, get_embeddings_and_probs_bart, add_assos\n",
    "from evaluation_for_trade_off.bias_utils.debiasing_effects_util import get_effect_size\n",
    "\n",
    "eval_type = 'test'\n",
    "\n",
    "tmp_path = '../data/simple_patterns'\n",
    "\n",
    "corpus, tmps_type, temp_size = convert_tmps_to_sents(tmp_path, eval_type,\\\n",
    "                                                 simple = True)\n",
    "sent2emb = get_embeddings_and_probs_bart(corpus, tmps_type, temp_size, model_type = 'facebook/bart-large')\n",
    "corpus = add_assos(corpus, tmps_type, temp_size, sent2emb = sent2emb)\n",
    "\n",
    "seat_effect_size, seat_p, log_effect_size, log_p = get_effect_size(corpus)\n",
    "print((seat_effect_size, seat_p))\n",
    "print((log_effect_size, log_p))"
   ]
  },
  {
   "cell_type": "code",
   "execution_count": 2,
   "metadata": {},
   "outputs": [
    {
     "name": "stdout",
     "output_type": "stream",
     "text": [
      "load tmps from ../data/simple_patterns\n",
      "--- 879 sentens to be processes ---\n",
      "We will use the GPU: GeForce GTX 1650\n",
      "max_len evaluation: 128\n",
      "--- get embeddings from TM and TAM---\n"
     ]
    },
    {
     "name": "stderr",
     "output_type": "stream",
     "text": [
      "100%|████████████████████████████████████████████████████████████████████████████████| 543/543 [00:40<00:00, 13.47it/s]\n",
      "  1%|▍                                                                                 | 2/336 [00:00<00:21, 15.53it/s]"
     ]
    },
    {
     "name": "stdout",
     "output_type": "stream",
     "text": [
      "--- get embeddings from AM---\n"
     ]
    },
    {
     "name": "stderr",
     "output_type": "stream",
     "text": [
      "100%|████████████████████████████████████████████████████████████████████████████████| 336/336 [00:22<00:00, 14.87it/s]\n"
     ]
    },
    {
     "name": "stdout",
     "output_type": "stream",
     "text": [
      "(1.3774923766961604, 0.00239)\n",
      "(1.6907803901410634, 0.00018)\n"
     ]
    }
   ],
   "source": [
    "import sys \n",
    "sys.path.append(\"evaluation_for_trade_off\")\n",
    "from evaluation_for_trade_off.evaluate_by_divers_tmps_bart import convert_tmps_to_sents, get_embeddings_and_probs_bart, add_assos\n",
    "from evaluation_for_trade_off.bias_utils.debiasing_effects_util import get_effect_size\n",
    "\n",
    "eval_type = 'test'\n",
    "\n",
    "tmp_path = '../data/simple_patterns'\n",
    "\n",
    "corpus, tmps_type, temp_size = convert_tmps_to_sents(tmp_path, eval_type,\\\n",
    "                                                 simple = True)\n",
    "sent2emb = get_embeddings_and_probs_bart(corpus, tmps_type, temp_size, model_type = 'facebook/bart-large')\n",
    "corpus = add_assos(corpus, tmps_type, temp_size, sent2emb = sent2emb)\n",
    "\n",
    "seat_effect_size, seat_p, log_effect_size, log_p = get_effect_size(corpus)\n",
    "print((seat_effect_size, seat_p))\n",
    "print((log_effect_size, log_p))"
   ]
  },
  {
   "cell_type": "code",
   "execution_count": 5,
   "metadata": {},
   "outputs": [
    {
     "name": "stdout",
     "output_type": "stream",
     "text": [
      "--- 5220 sentens to be processes ---\n",
      "We will use the GPU: GeForce GTX 1650\n",
      "* evaluating over-debiasing on facebook/bart-large\n",
      "max_len evaluation: 128\n"
     ]
    },
    {
     "name": "stderr",
     "output_type": "stream",
     "text": [
      "100%|██████████████████████████████████████████████████████████████████████████████| 2610/2610 [06:40<00:00,  6.51it/s]\n"
     ]
    }
   ],
   "source": [
    "import pandas as pd\n",
    "from evaluating_over_debiasing_bart import add_predicts_bart, get_vios_and_dif\n",
    "\n",
    "data_without_preds_path = '../data/bart_2610_sents_for_evaluating_gender_loss.tsv'\n",
    "\n",
    "over_debias = {}\n",
    "\n",
    "data_without_preds = pd.read_csv(data_without_preds_path, sep='\\t', index_col = 0)\n",
    "\n",
    "data = add_predicts_bart(data_without_preds, model_type = \"facebook/bart-large\", subspace_path = None)\n",
    "violates, difs = get_vios_and_dif(data)\n",
    "\n",
    "error_num = len(violates)\n",
    "over_debias['error_num'] = error_num\n",
    "\n",
    "error_rate = len(violates)/len(data)\n",
    "over_debias['error_rate'] = error_rate\n",
    "\n",
    "IA = sum(difs) / len(difs)\n",
    "over_debias['IA'] = IA"
   ]
  },
  {
   "cell_type": "code",
   "execution_count": 6,
   "metadata": {},
   "outputs": [
    {
     "name": "stdout",
     "output_type": "stream",
     "text": [
      "For over debiasing :\n",
      "{'error_num': 576, 'error_rate': 0.2206896551724138, 'IA': 1.1096442122755583}\n"
     ]
    }
   ],
   "source": [
    "print(\"For over debiasing :\")\n",
    "print(over_debias)"
   ]
  },
  {
   "cell_type": "code",
   "execution_count": 12,
   "metadata": {},
   "outputs": [
    {
     "data": {
      "text/plain": [
       "1.11"
      ]
     },
     "execution_count": 12,
     "metadata": {},
     "output_type": "execute_result"
    }
   ],
   "source": [
    "round(1.109644, 3)"
   ]
  },
  {
   "cell_type": "markdown",
   "metadata": {},
   "source": [
    "SENT_DEBIAS"
   ]
  },
  {
   "cell_type": "code",
   "execution_count": 5,
   "metadata": {},
   "outputs": [
    {
     "name": "stdout",
     "output_type": "stream",
     "text": [
      "load tmps from ../data/simple_patterns\n",
      "* load gender dir from  ../debiased_models/saved_embs/large_gender_dir\n",
      "--- 879 sentens to be processes ---\n",
      "We will use the GPU: GeForce GTX 1650\n",
      "max_len evaluation: 128\n",
      "--- get embeddings from TM and TAM---\n"
     ]
    },
    {
     "name": "stderr",
     "output_type": "stream",
     "text": [
      "100%|████████████████████████████████████████████████████████████████████████████████| 543/543 [01:24<00:00,  6.41it/s]\n",
      "  0%|                                                                                          | 0/336 [00:00<?, ?it/s]"
     ]
    },
    {
     "name": "stdout",
     "output_type": "stream",
     "text": [
      "debiasing by sent_debias...\n",
      "--- get embeddings from AM---\n"
     ]
    },
    {
     "name": "stderr",
     "output_type": "stream",
     "text": [
      "100%|████████████████████████████████████████████████████████████████████████████████| 336/336 [00:22<00:00, 14.93it/s]\n"
     ]
    },
    {
     "name": "stdout",
     "output_type": "stream",
     "text": [
      "debiasing by sent_debias...\n",
      "(1.2191762526789314, 0.01244)\n",
      "(1.5430555258825234, 0.0008)\n"
     ]
    }
   ],
   "source": [
    "import sys \n",
    "sys.path.append(\"evaluation_for_trade_off\")\n",
    "from evaluation_for_trade_off.evaluate_by_divers_tmps_bart import convert_tmps_to_sents, get_embeddings_and_probs_bart, add_assos\n",
    "from evaluation_for_trade_off.bias_utils.debiasing_effects_util import get_effect_size\n",
    "\n",
    "eval_type = 'test'\n",
    "\n",
    "tmp_path = '../data/simple_patterns'\n",
    "\n",
    "corpus, tmps_type, temp_size = convert_tmps_to_sents(tmp_path, eval_type,\\\n",
    "                                                 simple = True)\n",
    "sent2emb = get_embeddings_and_probs_bart(corpus, tmps_type, temp_size, model_type = 'facebook/bart-large', subspace_path = '../debiased_models/saved_embs/large_gender_dir')\n",
    "corpus = add_assos(corpus, tmps_type, temp_size, sent2emb = sent2emb)\n",
    "\n",
    "seat_effect_size, seat_p, log_effect_size, log_p = get_effect_size(corpus)\n",
    "print((seat_effect_size, seat_p))\n",
    "print((log_effect_size, log_p))"
   ]
  },
  {
   "cell_type": "code",
   "execution_count": 3,
   "metadata": {},
   "outputs": [
    {
     "name": "stdout",
     "output_type": "stream",
     "text": [
      "* load gender dir from  ../debiased_models/saved_embs/large_gender_dir\n",
      "--- 234 sentens to be processes ---\n",
      "We will use the GPU: GeForce GTX 1650\n",
      "load model from facebook/bart-large\n",
      "Testing\n",
      "--- get embeddings from AM---\n"
     ]
    },
    {
     "name": "stderr",
     "output_type": "stream",
     "text": [
      "100%|████████████████████████████████████████████████████████████████████████████████| 234/234 [00:14<00:00, 16.26it/s]\n"
     ]
    },
    {
     "name": "stdout",
     "output_type": "stream",
     "text": [
      "debiasing by sent_debias...\n",
      "(0.18174736277839393, 0.44309)\n"
     ]
    }
   ],
   "source": [
    "from evaluation_for_trade_off.bart_ori_seat import get_embeddings, compute_effect_size\n",
    "\n",
    "import json\n",
    "\n",
    "eval_type = 'test'\n",
    "\n",
    "if eval_type == 'val':\n",
    "    ori_seat_corpus_path = '../data/val_new_ori_seat_data.json'\n",
    "elif eval_type == 'test':\n",
    "    ori_seat_corpus_path = '../data/test_new_ori_seat_data.json'\n",
    "else:\n",
    "    assert eval_type == 'whole'\n",
    "    ori_seat_corpus_path = '../data/new_ori_seat_data.json'\n",
    "\n",
    "with open(ori_seat_corpus_path, 'r') as f:\n",
    "    test = json.load(f)\n",
    "\n",
    "sent2emb = get_embeddings(test, model_type = 'facebook/bart-large', subspace_path = '../debiased_models/saved_embs/large_gender_dir')\n",
    "\n",
    "seat_ez, p = compute_effect_size(test, sent2emb = sent2emb)\n",
    "\n",
    "print((seat_ez, p))"
   ]
  },
  {
   "cell_type": "code",
   "execution_count": 4,
   "metadata": {},
   "outputs": [
    {
     "name": "stdout",
     "output_type": "stream",
     "text": [
      "* load gender dir from  ../debiased_models/saved_embs/large_gender_dir\n",
      "--- 294 sentens to be processes ---\n",
      "We will use the GPU: GeForce GTX 1650\n",
      "load model from facebook/bart-large\n",
      "Testing\n",
      "--- get embeddings from AM---\n"
     ]
    },
    {
     "name": "stderr",
     "output_type": "stream",
     "text": [
      "100%|████████████████████████████████████████████████████████████████████████████████| 294/294 [00:18<00:00, 15.72it/s]\n"
     ]
    },
    {
     "name": "stdout",
     "output_type": "stream",
     "text": [
      "debiasing by sent_debias...\n",
      "(0.21882549958306882, 0.29006)\n"
     ]
    }
   ],
   "source": [
    "from evaluation_for_trade_off.bart_ori_seat import get_embeddings, compute_effect_size\n",
    "\n",
    "import json\n",
    "\n",
    "eval_type = 'whole'\n",
    "\n",
    "if eval_type == 'val':\n",
    "    ori_seat_corpus_path = '../data/val_new_ori_seat_data.json'\n",
    "elif eval_type == 'test':\n",
    "    ori_seat_corpus_path = '../data/test_new_ori_seat_data.json'\n",
    "else:\n",
    "    assert eval_type == 'whole'\n",
    "    ori_seat_corpus_path = '../data/new_ori_seat_data.json'\n",
    "\n",
    "with open(ori_seat_corpus_path, 'r') as f:\n",
    "    test = json.load(f)\n",
    "\n",
    "sent2emb = get_embeddings(test, model_type = 'facebook/bart-large', subspace_path = '../debiased_models/saved_embs/large_gender_dir')\n",
    "\n",
    "seat_ez, p = compute_effect_size(test, sent2emb = sent2emb)\n",
    "\n",
    "print((seat_ez, p))"
   ]
  },
  {
   "cell_type": "code",
   "execution_count": 1,
   "metadata": {},
   "outputs": [
    {
     "name": "stdout",
     "output_type": "stream",
     "text": [
      "* load gender dir from  debiased_models/saved_embs/large_gender_dir\n",
      "--- 5220 sentens to be processes ---\n",
      "We will use the GPU: GeForce GTX 1650\n",
      "* evaluating over-debiasing on facebook/bart-large\n",
      "max_len evaluation: 128\n"
     ]
    },
    {
     "name": "stderr",
     "output_type": "stream",
     "text": [
      "  0%|                                                                                         | 0/2610 [00:00<?, ?it/s]C:\\Hello_Mulin\\My_study-base\\experiments\\phase2\\Unimelb_fairness_project_phase2\\bart\\evaluating_over_debiasing_bart.py:53: UserWarning: This overload of nonzero is deprecated:\n",
      "\tnonzero()\n",
      "Consider using one of the following signatures instead:\n",
      "\tnonzero(*, bool as_tuple) (Triggered internally at  ..\\torch\\csrc\\utils\\python_arg_parser.cpp:882.)\n",
      "  TM_mask_pos = (TM_input_b[b] == tokenizer.mask_token_id).nonzero().flatten().tolist()[0]\n",
      "100%|██████████████████████████████████████████████████████████████████████████████| 2610/2610 [15:38<00:00,  2.78it/s]\n"
     ]
    },
    {
     "name": "stdout",
     "output_type": "stream",
     "text": [
      "facebook/bart-large\n",
      "bart-large\n"
     ]
    }
   ],
   "source": [
    "import pandas as pd\n",
    "from evaluating_over_debiasing_bart import add_predicts_bart, get_vios_and_dif\n",
    "\n",
    "data_without_preds_path = '../data/bart_2610_sents_for_evaluating_gender_loss.tsv'\n",
    "\n",
    "over_debias = {}\n",
    "\n",
    "data_without_preds = pd.read_csv(data_without_preds_path, sep='\\t', index_col = 0)\n",
    "\n",
    "data = add_predicts_bart(data_without_preds, model_type = \"facebook/bart-large\", subspace_path = 'debiased_models/saved_embs/large_gender_dir')\n",
    "violates, difs = get_vios_and_dif(data)\n",
    "\n",
    "error_num = len(violates)\n",
    "over_debias['error_num'] = error_num\n",
    "\n",
    "error_rate = len(violates)/len(data)\n",
    "over_debias['error_rate'] = error_rate\n",
    "\n",
    "IA = sum(difs) / len(difs)\n",
    "over_debias['IA'] = IA"
   ]
  },
  {
   "cell_type": "code",
   "execution_count": 2,
   "metadata": {},
   "outputs": [
    {
     "name": "stdout",
     "output_type": "stream",
     "text": [
      "For over debiasing :\n",
      "{'error_num': 770, 'error_rate': 0.2950191570881226, 'IA': 0.028823830847116254}\n"
     ]
    }
   ],
   "source": [
    "print(\"For over debiasing :\")\n",
    "print(over_debias)"
   ]
  },
  {
   "cell_type": "code",
   "execution_count": 14,
   "metadata": {},
   "outputs": [
    {
     "data": {
      "text/plain": [
       "0.029"
      ]
     },
     "execution_count": 14,
     "metadata": {},
     "output_type": "execute_result"
    }
   ],
   "source": [
    "round(0.0288238, 3)"
   ]
  },
  {
   "cell_type": "code",
   "execution_count": null,
   "metadata": {},
   "outputs": [],
   "source": []
  }
 ],
 "metadata": {
  "kernelspec": {
   "display_name": "Python 3",
   "language": "python",
   "name": "python3"
  },
  "language_info": {
   "codemirror_mode": {
    "name": "ipython",
    "version": 3
   },
   "file_extension": ".py",
   "mimetype": "text/x-python",
   "name": "python",
   "nbconvert_exporter": "python",
   "pygments_lexer": "ipython3",
   "version": "3.8.5"
  }
 },
 "nbformat": 4,
 "nbformat_minor": 4
}
