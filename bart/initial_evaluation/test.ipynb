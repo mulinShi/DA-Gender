{
 "cells": [
  {
   "cell_type": "code",
   "execution_count": 1,
   "metadata": {},
   "outputs": [
    {
     "ename": "ModuleNotFoundError",
     "evalue": "No module named 'evaluation_for_trade_off'",
     "output_type": "error",
     "traceback": [
      "\u001b[1;31m---------------------------------------------------------------------------\u001b[0m",
      "\u001b[1;31mModuleNotFoundError\u001b[0m                       Traceback (most recent call last)",
      "\u001b[1;32m<ipython-input-1-1e920d351bc9>\u001b[0m in \u001b[0;36m<module>\u001b[1;34m\u001b[0m\n\u001b[0;32m      2\u001b[0m \u001b[0msys\u001b[0m\u001b[1;33m.\u001b[0m\u001b[0mpath\u001b[0m\u001b[1;33m.\u001b[0m\u001b[0mappend\u001b[0m\u001b[1;33m(\u001b[0m\u001b[1;34m\"evaluation_for_trade_off\"\u001b[0m\u001b[1;33m)\u001b[0m\u001b[1;33m\u001b[0m\u001b[1;33m\u001b[0m\u001b[0m\n\u001b[0;32m      3\u001b[0m \u001b[1;33m\u001b[0m\u001b[0m\n\u001b[1;32m----> 4\u001b[1;33m \u001b[1;32mfrom\u001b[0m \u001b[0mevaluation_for_trade_off\u001b[0m\u001b[1;33m.\u001b[0m\u001b[0mevaluating_over_debiasing_bart\u001b[0m \u001b[1;32mimport\u001b[0m \u001b[0madd_predicts_bart\u001b[0m\u001b[1;33m,\u001b[0m \u001b[0mget_vios_and_dif\u001b[0m\u001b[1;33m\u001b[0m\u001b[1;33m\u001b[0m\u001b[0m\n\u001b[0m\u001b[0;32m      5\u001b[0m \u001b[1;33m\u001b[0m\u001b[0m\n\u001b[0;32m      6\u001b[0m \u001b[1;32mfrom\u001b[0m \u001b[0mevaluation_for_trade_off\u001b[0m\u001b[1;33m.\u001b[0m\u001b[0mevaluate_by_divers_tmps_bart\u001b[0m \u001b[1;32mimport\u001b[0m \u001b[0mconvert_tmps_to_sents\u001b[0m\u001b[1;33m,\u001b[0m \u001b[0mget_embeddings_and_probs_bart\u001b[0m\u001b[1;33m,\u001b[0m \u001b[0madd_assos\u001b[0m\u001b[1;33m\u001b[0m\u001b[1;33m\u001b[0m\u001b[0m\n",
      "\u001b[1;31mModuleNotFoundError\u001b[0m: No module named 'evaluation_for_trade_off'"
     ]
    }
   ],
   "source": [
    "import sys \n",
    "sys.path.append(\"evaluation_for_trade_off\")\n",
    "\n",
    "from evaluation_for_trade_off.evaluating_over_debiasing_bart import add_predicts_bart, get_vios_and_dif\n",
    "\n",
    "from evaluation_for_trade_off.evaluate_by_divers_tmps_bart import convert_tmps_to_sents, get_embeddings_and_probs_bart, add_assos\n",
    "\n",
    "from evaluation_for_trade_off.bias_utils.debiasing_effects_util import get_effect_size\n",
    "\n",
    "from evaluation_for_trade_off.bart_ori_seat import get_embeddings, compute_effect_size"
   ]
  },
  {
   "cell_type": "code",
   "execution_count": 2,
   "metadata": {},
   "outputs": [
    {
     "name": "stdout",
     "output_type": "stream",
     "text": [
      "load tmps from ../data/simple_patterns\n",
      "--- 1083 sentens to be processes ---\n",
      "We will use the GPU: GeForce GTX 1650\n",
      "max_len evaluation: 128\n",
      "--- get embeddings from TM and TAM---\n"
     ]
    },
    {
     "name": "stderr",
     "output_type": "stream",
     "text": [
      "  0%|                                                                                          | 0/663 [00:00<?, ?it/s]evaluation_for_trade_off\\bias_utils\\utils_for_diverse_tmps.py:181: UserWarning: This overload of nonzero is deprecated:\n",
      "\tnonzero()\n",
      "Consider using one of the following signatures instead:\n",
      "\tnonzero(*, bool as_tuple) (Triggered internally at  ..\\torch\\csrc\\utils\\python_arg_parser.cpp:882.)\n",
      "  mask_index = (sents[sent_id] == tokenizer.mask_token_id).nonzero().flatten().tolist()[masked_id]\n",
      "100%|████████████████████████████████████████████████████████████████████████████████| 663/663 [00:30<00:00, 21.62it/s]\n",
      "  1%|▌                                                                                 | 3/420 [00:00<00:14, 28.38it/s]"
     ]
    },
    {
     "name": "stdout",
     "output_type": "stream",
     "text": [
      "--- get embeddings from AM---\n"
     ]
    },
    {
     "name": "stderr",
     "output_type": "stream",
     "text": [
      "100%|████████████████████████████████████████████████████████████████████████████████| 420/420 [00:15<00:00, 27.27it/s]\n"
     ]
    },
    {
     "name": "stdout",
     "output_type": "stream",
     "text": [
      "(1.440758229270771, 8e-05)\n",
      "(1.7316179030718974, 6e-05)\n"
     ]
    }
   ],
   "source": [
    "eval_type = 'whole'\n",
    "\n",
    "tmp_path = '../data/simple_patterns'\n",
    "\n",
    "corpus, tmps_type, temp_size = convert_tmps_to_sents(tmp_path, eval_type,\\\n",
    "                                                 simple = True)\n",
    "sent2emb = get_embeddings_and_probs_bart(corpus, tmps_type, temp_size, model_type = 'facebook/bart-base')\n",
    "corpus = add_assos(corpus, tmps_type, temp_size, sent2emb = sent2emb)\n",
    "\n",
    "seat_effect_size, seat_p, log_effect_size, log_p = get_effect_size(corpus)\n",
    "print((seat_effect_size, seat_p))\n",
    "print((log_effect_size, log_p))"
   ]
  },
  {
   "cell_type": "code",
   "execution_count": 3,
   "metadata": {},
   "outputs": [
    {
     "name": "stdout",
     "output_type": "stream",
     "text": [
      "load tmps from ../data/simple_patterns\n",
      "--- 105 sentens to be processes ---\n",
      "We will use the GPU: GeForce GTX 1650\n",
      "max_len evaluation: 128\n",
      "--- get embeddings from TM and TAM---\n"
     ]
    },
    {
     "name": "stderr",
     "output_type": "stream",
     "text": [
      "100%|██████████████████████████████████████████████████████████████████████████████████| 53/53 [00:02<00:00, 21.54it/s]\n",
      "  6%|████▊                                                                              | 3/52 [00:00<00:01, 29.20it/s]"
     ]
    },
    {
     "name": "stdout",
     "output_type": "stream",
     "text": [
      "--- get embeddings from AM---\n"
     ]
    },
    {
     "name": "stderr",
     "output_type": "stream",
     "text": [
      "100%|██████████████████████████████████████████████████████████████████████████████████| 52/52 [00:01<00:00, 29.10it/s]\n"
     ]
    },
    {
     "name": "stdout",
     "output_type": "stream",
     "text": [
      "(1.9998296431532763, 0.0)\n",
      "(1.9963573281832845, 0.0)\n"
     ]
    }
   ],
   "source": [
    "eval_type = 'val'\n",
    "\n",
    "tmp_path = '../data/simple_patterns'\n",
    "\n",
    "corpus, tmps_type, temp_size = convert_tmps_to_sents(tmp_path, eval_type,\\\n",
    "                                                 simple = True)\n",
    "sent2emb = get_embeddings_and_probs_bart(corpus, tmps_type, temp_size, model_type = 'facebook/bart-base')\n",
    "corpus = add_assos(corpus, tmps_type, temp_size, sent2emb = sent2emb)\n",
    "\n",
    "seat_effect_size, seat_p, log_effect_size, log_p = get_effect_size(corpus)\n",
    "print((seat_effect_size, seat_p))\n",
    "print((log_effect_size, log_p))"
   ]
  },
  {
   "cell_type": "code",
   "execution_count": 4,
   "metadata": {},
   "outputs": [
    {
     "name": "stdout",
     "output_type": "stream",
     "text": [
      "load tmps from ../data/simple_patterns\n",
      "--- 879 sentens to be processes ---\n",
      "We will use the GPU: GeForce GTX 1650\n",
      "max_len evaluation: 128\n",
      "--- get embeddings from TM and TAM---\n"
     ]
    },
    {
     "name": "stderr",
     "output_type": "stream",
     "text": [
      "100%|████████████████████████████████████████████████████████████████████████████████| 543/543 [00:25<00:00, 21.63it/s]\n",
      "  1%|▋                                                                                 | 3/336 [00:00<00:12, 27.60it/s]"
     ]
    },
    {
     "name": "stdout",
     "output_type": "stream",
     "text": [
      "--- get embeddings from AM---\n"
     ]
    },
    {
     "name": "stderr",
     "output_type": "stream",
     "text": [
      "100%|████████████████████████████████████████████████████████████████████████████████| 336/336 [00:12<00:00, 27.85it/s]\n"
     ]
    },
    {
     "name": "stdout",
     "output_type": "stream",
     "text": [
      "(1.404318728528581, 0.00147)\n",
      "(1.6505342458710899, 0.00035)\n"
     ]
    }
   ],
   "source": [
    "eval_type = 'test'\n",
    "\n",
    "tmp_path = '../data/simple_patterns'\n",
    "\n",
    "corpus, tmps_type, temp_size = convert_tmps_to_sents(tmp_path, eval_type,\\\n",
    "                                                 simple = True)\n",
    "sent2emb = get_embeddings_and_probs_bart(corpus, tmps_type, temp_size, model_type = 'facebook/bart-base')\n",
    "corpus = add_assos(corpus, tmps_type, temp_size, sent2emb = sent2emb)\n",
    "\n",
    "seat_effect_size, seat_p, log_effect_size, log_p = get_effect_size(corpus)\n",
    "print((seat_effect_size, seat_p))\n",
    "print((log_effect_size, log_p))"
   ]
  },
  {
   "cell_type": "code",
   "execution_count": null,
   "metadata": {},
   "outputs": [],
   "source": []
  },
  {
   "cell_type": "code",
   "execution_count": 8,
   "metadata": {},
   "outputs": [
    {
     "name": "stdout",
     "output_type": "stream",
     "text": [
      "--- 294 sentens to be processes ---\n",
      "We will use the GPU: GeForce GTX 1650\n",
      "load model from facebook/bart-base\n",
      "--- get embeddings from AM---\n"
     ]
    },
    {
     "name": "stderr",
     "output_type": "stream",
     "text": [
      "100%|████████████████████████████████████████████████████████████████████████████████| 294/294 [00:10<00:00, 28.87it/s]\n"
     ]
    },
    {
     "name": "stdout",
     "output_type": "stream",
     "text": [
      "(0.6270050592952796, 0.0024)\n"
     ]
    }
   ],
   "source": [
    "import json\n",
    "\n",
    "eval_type = 'whole'\n",
    "\n",
    "if eval_type == 'val':\n",
    "    ori_seat_corpus_path = '../data/val_new_ori_seat_data.json'\n",
    "elif eval_type == 'test':\n",
    "    ori_seat_corpus_path = '../data/test_new_ori_seat_data.json'\n",
    "else:\n",
    "    assert eval_type == 'whole'\n",
    "    ori_seat_corpus_path = '../data/new_ori_seat_data.json'\n",
    "\n",
    "with open(ori_seat_corpus_path, 'r') as f:\n",
    "    test = json.load(f)\n",
    "\n",
    "sent2emb = get_embeddings(test, model_type = 'facebook/bart-base')\n",
    "\n",
    "seat_ez, p = compute_effect_size(test, sent2emb = sent2emb)\n",
    "\n",
    "print((seat_ez, p))"
   ]
  },
  {
   "cell_type": "code",
   "execution_count": 9,
   "metadata": {},
   "outputs": [
    {
     "name": "stdout",
     "output_type": "stream",
     "text": [
      "--- 60 sentens to be processes ---\n",
      "We will use the GPU: GeForce GTX 1650\n",
      "load model from facebook/bart-base\n",
      "--- get embeddings from AM---\n"
     ]
    },
    {
     "name": "stderr",
     "output_type": "stream",
     "text": [
      "100%|██████████████████████████████████████████████████████████████████████████████████| 60/60 [00:02<00:00, 28.18it/s]\n"
     ]
    },
    {
     "name": "stdout",
     "output_type": "stream",
     "text": [
      "(1.2602627358205323, 0.00349)\n"
     ]
    }
   ],
   "source": [
    "eval_type = 'val'\n",
    "\n",
    "if eval_type == 'val':\n",
    "    ori_seat_corpus_path = '../data/val_new_ori_seat_data.json'\n",
    "elif eval_type == 'test':\n",
    "    ori_seat_corpus_path = '../data/test_new_ori_seat_data.json'\n",
    "else:\n",
    "    assert eval_type == 'whole'\n",
    "    ori_seat_corpus_path = '../data/new_ori_seat_data.json'\n",
    "\n",
    "with open(ori_seat_corpus_path, 'r') as f:\n",
    "    test = json.load(f)\n",
    "\n",
    "sent2emb = get_embeddings(test, model_type = 'facebook/bart-base')\n",
    "\n",
    "seat_ez, p = compute_effect_size(test, sent2emb = sent2emb)\n",
    "\n",
    "print((seat_ez, p))"
   ]
  },
  {
   "cell_type": "code",
   "execution_count": 10,
   "metadata": {},
   "outputs": [
    {
     "name": "stdout",
     "output_type": "stream",
     "text": [
      "--- 234 sentens to be processes ---\n",
      "We will use the GPU: GeForce GTX 1650\n",
      "load model from facebook/bart-base\n",
      "--- get embeddings from AM---\n"
     ]
    },
    {
     "name": "stderr",
     "output_type": "stream",
     "text": [
      "100%|████████████████████████████████████████████████████████████████████████████████| 234/234 [00:08<00:00, 28.69it/s]\n"
     ]
    },
    {
     "name": "stdout",
     "output_type": "stream",
     "text": [
      "(0.4276836186717399, 0.06748)\n"
     ]
    }
   ],
   "source": [
    "eval_type = 'test'\n",
    "\n",
    "if eval_type == 'val':\n",
    "    ori_seat_corpus_path = '../data/val_new_ori_seat_data.json'\n",
    "elif eval_type == 'test':\n",
    "    ori_seat_corpus_path = '../data/test_new_ori_seat_data.json'\n",
    "else:\n",
    "    assert eval_type == 'whole'\n",
    "    ori_seat_corpus_path = '../data/new_ori_seat_data.json'\n",
    "\n",
    "with open(ori_seat_corpus_path, 'r') as f:\n",
    "    test = json.load(f)\n",
    "\n",
    "sent2emb = get_embeddings(test, model_type = 'facebook/bart-base')\n",
    "\n",
    "seat_ez, p = compute_effect_size(test, sent2emb = sent2emb)\n",
    "\n",
    "print((seat_ez, p))"
   ]
  },
  {
   "cell_type": "code",
   "execution_count": null,
   "metadata": {},
   "outputs": [],
   "source": []
  }
 ],
 "metadata": {
  "kernelspec": {
   "display_name": "Python 3",
   "language": "python",
   "name": "python3"
  },
  "language_info": {
   "codemirror_mode": {
    "name": "ipython",
    "version": 3
   },
   "file_extension": ".py",
   "mimetype": "text/x-python",
   "name": "python",
   "nbconvert_exporter": "python",
   "pygments_lexer": "ipython3",
   "version": "3.8.5"
  }
 },
 "nbformat": 4,
 "nbformat_minor": 4
}
