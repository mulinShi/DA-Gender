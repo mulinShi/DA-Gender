{
 "cells": [
  {
   "cell_type": "code",
   "execution_count": 2,
   "metadata": {},
   "outputs": [],
   "source": [
    "from substitutor import Substitutor, load_json_pairs"
   ]
  },
  {
   "cell_type": "code",
   "execution_count": null,
   "metadata": {},
   "outputs": [],
   "source": [
    "import spacy\n",
    "spacy.load('en_core_web_lg')\n",
    "base_pairs = load_json_pairs('gender_name_pairs/cda_default_pairs.json')\n",
    "name_pairs = load_json_pairs('gender_name_pairs/names_pairs_1000_scaled.json')\n",
    "\n",
    "# Initialise a substitutor with a list of pairs of gendered words (and optionally names)\n",
    "substitutor = Substitutor(base_pairs, name_pairs=name_pairs)"
   ]
  },
  {
   "cell_type": "code",
   "execution_count": 3,
   "metadata": {},
   "outputs": [
    {
     "name": "stdout",
     "output_type": "stream",
     "text": [
      "Before: Karl Telford -- played the police officer boyfriend of Estelle, Darren.\n",
      "After: ('Zoe Telford -- played the police officer girlfriend of Simon, Maggie.', 4)\n"
     ]
    }
   ],
   "source": [
    "# Run me from the base directory.\n",
    "\n",
    "# Example text which requires NER and POS information to properly invert\n",
    "text = \"Karl Telford -- played the police officer boyfriend of Estelle, Darren.\"\n",
    "\n",
    "flipped = substitutor.invert_document(text)\n",
    "\n",
    "print(\"Before: {}\".format(text))\n",
    "print(\"After: {}\".format(flipped))\n",
    "# It correctly doesn't flip the sentence ending noun \"amber\", and properly converts \"her\" to \"his\" not \"him\""
   ]
  },
  {
   "cell_type": "code",
   "execution_count": 4,
   "metadata": {},
   "outputs": [],
   "source": [
    "import torch\n",
    ">>> from transformers import BertTokenizer\n",
    "tokenizer = BertTokenizer.from_pretrained('bert-base-uncased')"
   ]
  },
  {
   "cell_type": "code",
   "execution_count": 16,
   "metadata": {},
   "outputs": [
    {
     "data": {
      "text/plain": [
       "['zoe',\n",
       " 'tel',\n",
       " '##ford',\n",
       " '-',\n",
       " '-',\n",
       " 'played',\n",
       " 'the',\n",
       " 'police',\n",
       " 'officer',\n",
       " 'girlfriend',\n",
       " 'of',\n",
       " 'simon',\n",
       " ',',\n",
       " 'maggie',\n",
       " '.']"
      ]
     },
     "execution_count": 16,
     "metadata": {},
     "output_type": "execute_result"
    }
   ],
   "source": [
    "tokenizer.tokenize(flipped[0])"
   ]
  },
  {
   "cell_type": "code",
   "execution_count": 17,
   "metadata": {},
   "outputs": [
    {
     "data": {
      "text/plain": [
       "['karl',\n",
       " 'tel',\n",
       " '##ford',\n",
       " '-',\n",
       " '-',\n",
       " 'played',\n",
       " 'the',\n",
       " 'police',\n",
       " 'officer',\n",
       " 'boyfriend',\n",
       " 'of',\n",
       " 'este',\n",
       " '##lle',\n",
       " ',',\n",
       " 'darren',\n",
       " '.']"
      ]
     },
     "execution_count": 17,
     "metadata": {},
     "output_type": "execute_result"
    }
   ],
   "source": [
    "tokenizer.tokenize(text)"
   ]
  },
  {
   "cell_type": "code",
   "execution_count": 12,
   "metadata": {},
   "outputs": [
    {
     "data": {
      "text/plain": [
       "16"
      ]
     },
     "execution_count": 12,
     "metadata": {},
     "output_type": "execute_result"
    }
   ],
   "source": [
    "len(tokenizer.convert_tokens_to_ids(tokenizer.tokenize(text)))"
   ]
  },
  {
   "cell_type": "code",
   "execution_count": 11,
   "metadata": {},
   "outputs": [
    {
     "data": {
      "text/plain": [
       "15"
      ]
     },
     "execution_count": 11,
     "metadata": {},
     "output_type": "execute_result"
    }
   ],
   "source": [
    "len(tokenizer.convert_tokens_to_ids(tokenizer.tokenize(flipped[0])))"
   ]
  },
  {
   "cell_type": "code",
   "execution_count": 1,
   "metadata": {},
   "outputs": [
    {
     "name": "stdout",
     "output_type": "stream",
     "text": [
      "base pair len 124, name pairs 1000\n"
     ]
    }
   ],
   "source": [
    "import json\n",
    "from substitutor import Substitutor, load_json_pairs\n",
    "import torch\n",
    "from transformers import BertTokenizer\n",
    "\n",
    "tokenizer = BertTokenizer.from_pretrained('bert-base-uncased')\n",
    "\n",
    "base_pairs = load_json_pairs('gender_name_pairs/cda_default_pairs.json')\n",
    "name_pairs = load_json_pairs('gender_name_pairs/names_pairs_1000_scaled.json')\n",
    "\n",
    "print(\"base pair len {}, name pairs {}\".format(len(base_pairs), len(name_pairs)))"
   ]
  },
  {
   "cell_type": "code",
   "execution_count": 3,
   "metadata": {},
   "outputs": [
    {
     "data": {
      "text/plain": [
       "501"
      ]
     },
     "execution_count": 3,
     "metadata": {},
     "output_type": "execute_result"
    }
   ],
   "source": [
    "my_base_pairs = []\n",
    "my_name_pairs = []\n",
    "\n",
    "for p in base_pairs:\n",
    "    if len(tokenizer.tokenize(p[0])) == len(tokenizer.tokenize(p[1])):\n",
    "        my_name_pairs.append(p)\n",
    "\n",
    "for p in name_pairs:\n",
    "    if len(tokenizer.tokenize(p[0])) == len(tokenizer.tokenize(p[1])):\n",
    "        my_name_pairs.append(p)\n",
    "len(my_name_pairs)"
   ]
  },
  {
   "cell_type": "code",
   "execution_count": 6,
   "metadata": {},
   "outputs": [],
   "source": [
    "json.dump(my_name_pairs, open(\"gender_name_pairs/my_names_pairs_501_scaled.json\", 'w'))"
   ]
  },
  {
   "cell_type": "code",
   "execution_count": null,
   "metadata": {},
   "outputs": [],
   "source": []
  }
 ],
 "metadata": {
  "kernelspec": {
   "display_name": "Python 3",
   "language": "python",
   "name": "python3"
  },
  "language_info": {
   "codemirror_mode": {
    "name": "ipython",
    "version": 3
   },
   "file_extension": ".py",
   "mimetype": "text/x-python",
   "name": "python",
   "nbconvert_exporter": "python",
   "pygments_lexer": "ipython3",
   "version": "3.8.5"
  }
 },
 "nbformat": 4,
 "nbformat_minor": 4
}
