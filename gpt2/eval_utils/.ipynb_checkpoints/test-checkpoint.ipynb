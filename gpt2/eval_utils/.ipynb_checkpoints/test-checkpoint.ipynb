{
 "cells": [
  {
   "cell_type": "code",
   "execution_count": 1,
   "metadata": {},
   "outputs": [],
   "source": [
    "import os"
   ]
  },
  {
   "cell_type": "code",
   "execution_count": 8,
   "metadata": {},
   "outputs": [],
   "source": [
    "model_types = []\n",
    "model_types += [None]\n",
    "p_dir = '../debiased_models/'\n",
    "dirs = [d for d in os.listdir(p_dir) if d != 'sent_debias']\n",
    "for d in dirs:\n",
    "    files = [ d + f for f in os.listdir(p_dir + d)]\n",
    "    model_types += files \n",
    "model_types += ['sent_debias']"
   ]
  },
  {
   "cell_type": "code",
   "execution_count": 9,
   "metadata": {},
   "outputs": [
    {
     "data": {
      "text/plain": [
       "[None,\n",
       " 'bleached_ERbleached_ER_1_13436_flipped_gap0',\n",
       " 'bleached_ERbleached_ER_1_13436_flipped_gap1',\n",
       " 'bleached_ERbleached_ER_1_13436_flipped_gap2',\n",
       " 'bleached_ERbleached_ER_1_13436_flipped_gap3',\n",
       " 'bleached_ERbleached_ER_1_13436_flipped_gap4',\n",
       " 'CDSCDS_13436_flipped_gap0',\n",
       " 'CDSCDS_13436_flipped_gap1',\n",
       " 'CDSCDS_13436_flipped_gap2',\n",
       " 'CDSCDS_13436_flipped_gap3',\n",
       " 'CDSCDS_13436_flipped_gap4',\n",
       " 'ERER_1_13436_flipped_gap0',\n",
       " 'ERER_1_13436_flipped_gap1',\n",
       " 'ERER_1_13436_flipped_gap2',\n",
       " 'ERER_1_13436_flipped_gap3',\n",
       " 'ERER_1_13436_flipped_gap4',\n",
       " 'sent_debias']"
      ]
     },
     "execution_count": 9,
     "metadata": {},
     "output_type": "execute_result"
    }
   ],
   "source": [
    "model_types"
   ]
  },
  {
   "cell_type": "code",
   "execution_count": null,
   "metadata": {},
   "outputs": [],
   "source": []
  },
  {
   "cell_type": "code",
   "execution_count": null,
   "metadata": {},
   "outputs": [],
   "source": []
  },
  {
   "cell_type": "code",
   "execution_count": null,
   "metadata": {},
   "outputs": [],
   "source": []
  }
 ],
 "metadata": {
  "kernelspec": {
   "display_name": "Python 3",
   "language": "python",
   "name": "python3"
  },
  "language_info": {
   "codemirror_mode": {
    "name": "ipython",
    "version": 3
   },
   "file_extension": ".py",
   "mimetype": "text/x-python",
   "name": "python",
   "nbconvert_exporter": "python",
   "pygments_lexer": "ipython3",
   "version": "3.8.5"
  }
 },
 "nbformat": 4,
 "nbformat_minor": 4
}
